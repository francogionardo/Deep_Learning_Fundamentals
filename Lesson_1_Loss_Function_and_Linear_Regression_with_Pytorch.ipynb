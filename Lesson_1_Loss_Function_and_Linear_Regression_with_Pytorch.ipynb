{
  "nbformat": 4,
  "nbformat_minor": 0,
  "metadata": {
    "colab": {
      "provenance": [],
      "collapsed_sections": [
        "c0Gv24-0sw4S"
      ],
      "gpuType": "T4"
    },
    "kernelspec": {
      "name": "python3",
      "display_name": "Python 3"
    },
    "language_info": {
      "name": "python"
    },
    "accelerator": "GPU"
  },
  "cells": [
    {
      "cell_type": "markdown",
      "source": [
        "Cubriremos los fundamentos de la creación de un modelo PyTorch, desde la creación de un objeto `nn.Module` hasta el entrenamiento del modelo y la adición de una función de pérdida.\n",
        "\n",
        "Para empezar utilizaremos un ejemplo sencillo de regresión lineal para ilustrar estos conceptos. Al final de esta clase, tendrás una comprensión sólida de cómo funciona PyTorch y cómo crear y entrenar tus propios modelos. ¡Comencemos!"
      ],
      "metadata": {
        "id": "x3B1hMIn2--p"
      }
    },
    {
      "cell_type": "markdown",
      "source": [
        "## Importar librerías"
      ],
      "metadata": {
        "id": "nr1EL2Rhx2HV"
      }
    },
    {
      "cell_type": "code",
      "execution_count": null,
      "metadata": {
        "id": "h1qTLPHwNSrC",
        "colab": {
          "base_uri": "https://localhost:8080/",
          "height": 35
        },
        "outputId": "91caf820-d7f0-44cd-ab94-6000bc7bf03c"
      },
      "outputs": [
        {
          "output_type": "execute_result",
          "data": {
            "text/plain": [
              "'2.2.1+cu121'"
            ],
            "application/vnd.google.colaboratory.intrinsic+json": {
              "type": "string"
            }
          },
          "metadata": {},
          "execution_count": 1
        }
      ],
      "source": [
        "import torch\n",
        "from torch import nn\n",
        "import matplotlib.pyplot as plt\n",
        "\n",
        "# Comprobar la versión de PyTorch\n",
        "torch.__version__"
      ]
    },
    {
      "cell_type": "markdown",
      "source": [
        "# 1. Genera tus datos\n",
        "\n",
        "Por agilidad, para este ejemplo, crearemos datos sintéticos.\n",
        "\n",
        "Creamos un tensor unidimensional llamado \"X\" que contiene un rango de valores, utilizando la función `arange`. Los parámetros de entrada \"inicio\", \"final\" y \"step\" especifican el inicio, final y tamaño del paso del rango respectivamente.\n",
        "\n",
        "La función `unsqueeze` se utiliza para agregar una dimensión adicional al tensor, lo que convierte el tensor unidimensional en un tensor de columna (con una dimensión adicional al final).\n",
        "\n",
        "En resumen, este código crea un tensor de columna con un rango de valores especificados.\n",
        "\n",
        "\n",
        "\n"
      ],
      "metadata": {
        "id": "FeHOaUzssS75"
      }
    },
    {
      "cell_type": "code",
      "source": [
        "# Crea *nuevos* parámetros\n",
        "volumen = 0.8\n",
        "sesgo = 0.2\n",
        "\n",
        "# Crea datos\n",
        "inicio = 0\n",
        "final = 1\n",
        "step = 0.025\n",
        "X = torch.arange(inicio, final, step).unsqueeze(dim=0)\n",
        "print(f\"Shape de X: {X.shape}\")\n",
        "y = volumen * X + sesgo\n",
        "print(f\"Shape de y: {y.shape}\")\n"
      ],
      "metadata": {
        "id": "bpeG42NqAK_4",
        "colab": {
          "base_uri": "https://localhost:8080/"
        },
        "outputId": "9fe7c0df-ddd5-4caa-fdbf-00b6abdb2d4b"
      },
      "execution_count": null,
      "outputs": [
        {
          "output_type": "stream",
          "name": "stdout",
          "text": [
            "Shape de X: torch.Size([1, 40])\n",
            "Shape de y: torch.Size([1, 40])\n"
          ]
        }
      ]
    },
    {
      "cell_type": "code",
      "source": [
        "X = torch.transpose(X, 0, 1)"
      ],
      "metadata": {
        "id": "HDt9RvYNBA2W"
      },
      "execution_count": null,
      "outputs": []
    },
    {
      "cell_type": "code",
      "source": [
        "y = torch.transpose(y, 0, 1)"
      ],
      "metadata": {
        "id": "eX19baBdBbmC"
      },
      "execution_count": null,
      "outputs": []
    },
    {
      "cell_type": "code",
      "source": [
        "X[:5], y[:5]"
      ],
      "metadata": {
        "colab": {
          "base_uri": "https://localhost:8080/"
        },
        "id": "Jf_FyEIj_6FC",
        "outputId": "37e03db4-0f5c-4a3e-f2d8-5e115fe9d0a6"
      },
      "execution_count": null,
      "outputs": [
        {
          "output_type": "execute_result",
          "data": {
            "text/plain": [
              "(tensor([[0.0000],\n",
              "         [0.0250],\n",
              "         [0.0500],\n",
              "         [0.0750],\n",
              "         [0.1000]]),\n",
              " tensor([[0.2000],\n",
              "         [0.2200],\n",
              "         [0.2400],\n",
              "         [0.2600],\n",
              "         [0.2800]]))"
            ]
          },
          "metadata": {},
          "execution_count": 5
        }
      ]
    },
    {
      "cell_type": "markdown",
      "source": [
        "Necesitamos un **conjunto de prueba** y uno de **entrenamiento**.\n",
        "\n",
        "Cada conjunto tiene un objetivo específico:\n",
        "\n",
        "*   **Conjunto de entrenamiento:** El modelo aprende de los datos.\n",
        "*   **Conjunto de prueba:** El modelo se evalúa con los datos para probar lo que ha aprendido.\n",
        "\n",
        "\n"
      ],
      "metadata": {
        "id": "JJ8FeTrDiSbo"
      }
    },
    {
      "cell_type": "code",
      "source": [
        "# Crea la división\n",
        "\n",
        "train_division = int(0.7 * len(X)) # 70% de los datos utilizados para el conjunto de entrenamiento, 30% para pruebas\n",
        "X_train, y_train = X[0:train_division], y[0:train_division]"
      ],
      "metadata": {
        "id": "evUscKYSsIW_"
      },
      "execution_count": null,
      "outputs": []
    },
    {
      "cell_type": "code",
      "source": [],
      "metadata": {
        "id": "7pvT8UWBFYl0"
      },
      "execution_count": null,
      "outputs": []
    },
    {
      "cell_type": "code",
      "source": [
        "# Slicing the test set\n",
        "\n",
        "X_test, y_test = X[train_division:], y[train_division:]"
      ],
      "metadata": {
        "id": "iaq7M8WmEI8w"
      },
      "execution_count": null,
      "outputs": []
    },
    {
      "cell_type": "code",
      "source": [
        "len(X_train), len(X_test)"
      ],
      "metadata": {
        "colab": {
          "base_uri": "https://localhost:8080/"
        },
        "id": "UX6rvHK-qdpF",
        "outputId": "2bd05f4e-6773-4c44-f3e6-6f4cd3f655b5"
      },
      "execution_count": null,
      "outputs": [
        {
          "output_type": "execute_result",
          "data": {
            "text/plain": [
              "(28, 12)"
            ]
          },
          "metadata": {},
          "execution_count": 8
        }
      ]
    },
    {
      "cell_type": "markdown",
      "source": [
        "Tenemos 28 muestras para entrenamiento (```X_train``` y ```y_train```) y 12 muestras de prueba (```X_test`` y ```y_test```)\n",
        "\n",
        "\n",
        "Visualizamos nuestros datos.\n"
      ],
      "metadata": {
        "id": "gvpHFf6_sIfI"
      }
    },
    {
      "cell_type": "code",
      "source": [
        "def plot_predictions(datos_ent=X_train,\n",
        "                     etiq_ent=y_train,\n",
        "                     datos_prueba=X_test,\n",
        "                     etiq_prueba=y_test,\n",
        "                     predictions=None):\n",
        "  \"\"\"\n",
        "  Traza datos de entrenamiento, datos de prueba y compara predicciones\n",
        "  \"\"\"\n",
        "  plt.figure(figsize=(10, 10))\n",
        "\n",
        "  # Traza datos de entrenamiento en verde\n",
        "  plt.scatter(datos_ent, etiq_ent, c=\"g\", s=6, label=\"Datos de entrenamiento\")\n",
        "\n",
        "  # Traza datos de prueba en amarillo\n",
        "  plt.scatter(datos_prueba, etiq_prueba, c=\"y\", s=6, label=\"Datos de prueba\")\n",
        "\n",
        "  if predictions is not None:\n",
        "    # Traza las predicciones en rojo\n",
        "    plt.scatter(datos_prueba, predictions, c=\"r\", s=6, label=\"Predicciones\")\n",
        "\n",
        "  # Leyenda\n",
        "  plt.legend(prop={\"size\": 12});"
      ],
      "metadata": {
        "id": "FtCPa_SYsrz5"
      },
      "execution_count": null,
      "outputs": []
    },
    {
      "cell_type": "code",
      "source": [
        "plot_predictions();"
      ],
      "metadata": {
        "id": "KyPM5U7Esvij",
        "colab": {
          "base_uri": "https://localhost:8080/",
          "height": 830
        },
        "outputId": "cd55b438-575c-4933-a6fc-14a0b5be026f"
      },
      "execution_count": null,
      "outputs": [
        {
          "output_type": "display_data",
          "data": {
            "text/plain": [
              "<Figure size 1000x1000 with 1 Axes>"
            ],
            "image/png": "[encoded data removed]"
          },
          "metadata": {}
        }
      ]
    },
    {
      "cell_type": "markdown",
      "source": [
        "##### ¡Ya podemos visualizar nuestros datos en una línea recta!"
      ],
      "metadata": {
        "id": "c0Gv24-0sw4S"
      }
    },
    {
      "cell_type": "markdown",
      "source": [
        "# 2. Estructura de un modelo Pytorch\n",
        "\n",
        "\n",
        "Construyamos un modelo de regresión lineal utilizando PyTorch.\n",
        "\n",
        "`torch.nn` proporciona herramientas para construir redes neuronales, `torch.optim` para optimizar los modelos, `data.Dataset` para manejar los conjuntos de datos y `torch.utils.data.DataLoader` para cargar y transformar los datos. Estas herramientas son fundamentales para la construcción y entrenamiento de modelos de machine learning.\n",
        "\n",
        "* `torch.nn`: es un módulo que proporciona clases y funciones para construir redes neuronales. Contiene una variedad de capas, como capas de convolución, capas de agrupación, capas de normalización, capas recurrentes y capas completamente conectadas, que se pueden combinar para construir una variedad de arquitecturas de redes neuronales.\n",
        "\n",
        "* `torch.optim`: proporciona clases y funciones para optimizar los modelos de machine learning. Contiene una variedad de algoritmos de optimización, como SGD, Adam, Adagrad y Adadelta, que se utilizan para ajustar los parámetros de los modelos durante el entrenamiento.\n",
        "\n",
        "* `torch.utils.data.Dataset`: es una clase que se utiliza para representar conjuntos de datos de machine learning. Proporciona una interfaz consistente para acceder a los datos y sus etiquetas. Se puede personalizar para trabajar con conjuntos de datos de diferentes formatos y tipos.\n",
        "\n",
        "* `torch.utils.data.DataLoader`: es una clase que se utiliza para cargar y transformar datos de un conjunto en lotes para el entrenamiento de modelos. Se encarga de la asignación de los lotes, la mezcla de los datos y la carga de los datos en la GPU si es necesario, lo que facilita el procesamiento de grandes conjuntos de datos.\n",
        "\n",
        "Por el momento, vamos a utilizar los dos primeros módulos. En el proyecto final usaremos `DataLoader`."
      ],
      "metadata": {
        "id": "3_Wb1-i46gLb"
      }
    },
    {
      "cell_type": "markdown",
      "source": [
        "El siguiente fragmento define una clase llamada `ModeloRegresionLineal` que hereda de la clase `nn.Module` en PyTorch.\n",
        "\n",
        "La clase tiene dos parámetros ajustables (`volumen` y `sesgo`) que se inicializan con valores aleatorios y se pueden optimizar durante el entrenamiento.\n",
        "\n",
        "La función `forward` realiza el cálculo del modelo, donde se multiplica el tensor de entrada `x` por el parámetro `volumen` y se le agrega el parámetro `sesgo`.\n",
        "\n",
        "En resumen, este código define una clase de modelo de regresión lineal con dos parámetros ajustables y define la operación de cálculo del modelo. Esto se utiliza como una plantilla para definir y entrenar modelos de regresión lineal en PyTorch."
      ],
      "metadata": {
        "id": "Lh-fUEjIeb7F"
      }
    },
    {
      "cell_type": "code",
      "source": [
        "# Crea una clase de modelo de regresión lineal\n",
        "class ModelRegressionLineal(nn.Module):\n",
        "  def __init__(self):\n",
        "    super().__init__()\n",
        "    self.volume = nn.Parameter(torch.randn(1, dtype=torch.float), requires_grad=True)\n",
        "    self.bias = nn.Parameter(torch.randn(1, dtype=torch.float), requires_grad=True)\n",
        "\n",
        "\n",
        "# Define el cálculo en el modelo\n",
        "  def forward (self, x: torch.Tensor)  -> torch. Tensor:\n",
        "    return self.volume *x + self.bias"
      ],
      "metadata": {
        "id": "sIql91VwA5_R"
      },
      "execution_count": null,
      "outputs": []
    },
    {
      "cell_type": "markdown",
      "source": [
        "`torch.manual_seed(42)` establece la semilla del generador de números aleatorios en 42. Lo que significa que los mismos números aleatorios se generarán en cada ejecución del código que utilice tensores de PyTorch.\n",
        "\n",
        "Esto puede ser útil para reproducir resultados y garantizar la reproducibilidad de los experimentos de machine learning."
      ],
      "metadata": {
        "id": "8h1vckvi5Fpx"
      }
    },
    {
      "cell_type": "code",
      "source": [
        "torch.manual_seed(42)\n",
        "# Crea un objeto instanciando la clase ModeloRegresionLineal\n",
        "\n",
        "model_1 = ModelRegressionLineal()\n",
        "model_1\n"
      ],
      "metadata": {
        "id": "nN1j_kH5BI5i",
        "colab": {
          "base_uri": "https://localhost:8080/"
        },
        "outputId": "902a4c49-e716-4c8e-a015-113048e94b5a"
      },
      "execution_count": null,
      "outputs": [
        {
          "output_type": "execute_result",
          "data": {
            "text/plain": [
              "ModelRegressionLineal()"
            ]
          },
          "metadata": {},
          "execution_count": 12
        }
      ]
    },
    {
      "cell_type": "markdown",
      "source": [
        "`model_1.state_dict()` devolverá el diccionario que contiene los valores de todos los parámetros entrenables del modelo. Este diccionario puede ser útil para guardar y cargar modelos."
      ],
      "metadata": {
        "id": "r34yTU9TDHE_"
      }
    },
    {
      "cell_type": "code",
      "source": [
        "model_1.state_dict()"
      ],
      "metadata": {
        "id": "UCOgzI9eDnhf",
        "colab": {
          "base_uri": "https://localhost:8080/"
        },
        "outputId": "9a764b03-60f2-478f-81c6-45cfce7c8194"
      },
      "execution_count": null,
      "outputs": [
        {
          "output_type": "execute_result",
          "data": {
            "text/plain": [
              "OrderedDict([('volume', tensor([0.3367])), ('bias', tensor([0.1288]))])"
            ]
          },
          "metadata": {},
          "execution_count": 13
        }
      ]
    },
    {
      "cell_type": "markdown",
      "source": [
        "Los valores de las variables `volumen` y `sesgo` aparecen como tensores aleatorios.\n",
        "\n",
        "Iniciamos con parámetros aleatorios para luego hacer que el modelo los actualice hacia parámetros que se ajusten mejor a nuestros datos.\n"
      ],
      "metadata": {
        "id": "FS-7zxonD6zG"
      }
    },
    {
      "cell_type": "markdown",
      "source": [
        "### Predicciones usando `torch.inference_mode()`\n",
        "\n",
        "Para hacer predicciones con `torch.inference_mode()` podemos pasar los datos de prueba `X_prueb` para ver qué tan cerca pasan de `y_prueb`.\n",
        "\n",
        "Cuando pasemos datos al modelo, pasarán por `forward()` produciendo un resultado con el cálculo que definimos anteriormente."
      ],
      "metadata": {
        "id": "mzs4PkfnEXZp"
      }
    },
    {
      "cell_type": "code",
      "source": [
        "# Hacer predicciones con el modelo\n",
        "with torch.inference_mode ():\n",
        "  y_pred = model_1 (X_test)\n"
      ],
      "metadata": {
        "id": "xTU2lTqdFOuu"
      },
      "execution_count": null,
      "outputs": []
    },
    {
      "cell_type": "markdown",
      "source": [
        "> `#torch.inference_mode` se usa para hacer inferencia (predicciones). Además, desactiva algunas opciones como el seguimiento del gradiente (necesario para el entrenamiento, NO para inferencia).\n",
        "\n"
      ],
      "metadata": {
        "id": "YAkbcfYoF8F7"
      }
    },
    {
      "cell_type": "code",
      "source": [
        "# Comprueba las predicciones\n",
        "y_pred\n"
      ],
      "metadata": {
        "id": "QSowOwhAGkED",
        "colab": {
          "base_uri": "https://localhost:8080/"
        },
        "outputId": "ff2ed01e-207a-49e8-a9a8-884f7b79e58a"
      },
      "execution_count": null,
      "outputs": [
        {
          "output_type": "execute_result",
          "data": {
            "text/plain": [
              "tensor([[0.3645],\n",
              "        [0.3729],\n",
              "        [0.3813],\n",
              "        [0.3897],\n",
              "        [0.3982],\n",
              "        [0.4066],\n",
              "        [0.4150],\n",
              "        [0.4234],\n",
              "        [0.4318],\n",
              "        [0.4402],\n",
              "        [0.4487],\n",
              "        [0.4571]])"
            ]
          },
          "metadata": {},
          "execution_count": 15
        }
      ]
    },
    {
      "cell_type": "markdown",
      "source": [
        "Hay un valor de predicción por muestra de prueba debido al tipo de datos implementados.\n",
        "\n",
        "\n",
        "\n",
        "> En este caso, para una línea recta, un valor `X` se asigna a un valor `y`. Sin embargo, los modelos de aprendizaje automático son muy flexibles. Podemos asignar 80 valores de `X` para 10 valores `y`.\n",
        "\n",
        "Visualicemos nuestros datos utilizando `plot_predictions()`\n",
        "\n"
      ],
      "metadata": {
        "id": "CMJB4FfDHAd3"
      }
    },
    {
      "cell_type": "code",
      "source": [
        "plot_predictions(predictions = y_pred)"
      ],
      "metadata": {
        "id": "AoSzxeqRHpw6",
        "colab": {
          "base_uri": "https://localhost:8080/",
          "height": 830
        },
        "outputId": "7039b423-be68-432b-fc7b-a25e0cb89131"
      },
      "execution_count": null,
      "outputs": [
        {
          "output_type": "display_data",
          "data": {
            "text/plain": [
              "<Figure size 1000x1000 with 1 Axes>"
            ],
            "image/png": "[encoded data removed]"
          },
          "metadata": {}
        }
      ]
    },
    {
      "cell_type": "markdown",
      "source": [
        "Recuerda que nuestro modelo solo usa valores de parámetros aleatorios para hacer predicciones, básicamente al azar. **Por ello, la predicción se ve mal.**"
      ],
      "metadata": {
        "id": "BQ14CXVeIElf"
      }
    },
    {
      "cell_type": "markdown",
      "source": [],
      "metadata": {
        "id": "zk9mfZafcnKO"
      }
    },
    {
      "cell_type": "markdown",
      "source": [
        "# 3. Aplicación de función de pérdida y optimizadores en PyTorch\n",
        "\n",
        "##### Para arreglar los valores aleatorios de los parámetros del modelo podemos actualizar los parámetros internos de las variables `# volumen` y `# sesgo` para representar mejor los datos.\n",
        "\n",
        "Para ello, crearemos una **función de pérdida** así como un **optimizador** con PyTorch.\n",
        "\n",
        "> La `# función de pérdida` mide qué tan equivocadas están las predicciones del modelo `# y_predc`, en comparación con las etiquetas `# y_prueb`. PyTorch tiene muchas funciones de pérdida integradas en `#torch.nn`.\n",
        "\n",
        "\n",
        "> El `#optimizador` le indica a los modelos cómo actualizar sus parámetros internos para reducir la pérdida. Podemos encontrar varias implementaciones en `#torch.optim`.\n",
        "\n",
        "Dependiendo del tipo de problema que estemos trabajando vamos a emplear una determinada función de pérdida y optimización.\n",
        "\n",
        "Para nuestro problema utilizaremos el **Error Cuadrático Medio (MAE)** como la función de pérdida `(torch.nn.L1Loss)` para medir la diferencia absoluta entre dos puntos y tomar la media en todos los ejemplos.\n",
        "\n",
        "También usaremos **Stochastic Gradient Descent (SGD)** `(torch.optim.SGD(params, lr))` como nuestro optimizador, donde `# params` son los parámetros del modelo (volumen y sesgo) y `# lr` es la tasa de aprendizaje a la que desea que el optimizador actualice los parámetros.\n",
        "\n",
        "Además, fijamos arbitrariamente una tasa de aprendizaje de 0.01\n"
      ],
      "metadata": {
        "id": "-BQbgtRlniCB"
      }
    },
    {
      "cell_type": "code",
      "source": [
        "# Creating a loss function considering L1Loss (MSE, check the documentaTION on torch Website)\n",
        "loss_func = torch.nn.L1Loss()\n",
        "\n",
        "# Creating an optimizer based on Sthocastic Gradient Descent. Also I definig the Learning Rate equal to 0.01)\n",
        "# tasa de aprendizaje (cuánto debe cambiar el optimizador de parámetros en cada paso, más alto = más (menos estable), más bajo = menos (puede llevar mucho tiempo))\n",
        "\n",
        "optimizer = torch.optim.SGD(params=model_1.parameters(), lr=0.01)"
      ],
      "metadata": {
        "id": "9lIVIKENrWtq"
      },
      "execution_count": null,
      "outputs": []
    },
    {
      "cell_type": "code",
      "source": [
        "loss_func"
      ],
      "metadata": {
        "colab": {
          "base_uri": "https://localhost:8080/"
        },
        "id": "G9XeVHa6aeuh",
        "outputId": "7c503e00-1023-4c0e-8dee-4136773470f9"
      },
      "execution_count": null,
      "outputs": [
        {
          "output_type": "execute_result",
          "data": {
            "text/plain": [
              "L1Loss()"
            ]
          },
          "metadata": {},
          "execution_count": 18
        }
      ]
    },
    {
      "cell_type": "markdown",
      "source": [
        "Ya que tenemos una función de pérdida y un optimizador, vamos a crear un ciclo de entrenamiento y uno de prueba. Esto implica que el modelo pase por los datos de entrenamiento y aprenda la relación entre `features` y `labels`.\n",
        "\n",
        "El ciclo de prueba implica revisar los datos de prueba y evaluar qué tan buenos son los patrones que el modelo aprendió de los datos de entrenamiento.\n",
        "\n",
        "Para entrenar, vamos a escribir un bucle `for` de Python.\n",
        "\n",
        "\n",
        "### Bucle de entrenamiento:\n",
        "\n",
        "**Pasos a seguir:**\n",
        "\n",
        "1.  El modelo pasa por todos los datos de entrenamiento nuevamente, realizando sus cálculos en funciones `forward ()`. *Código:* `modelo(X_ent)`\n",
        "2. Las predicciones se comparan  y se evalúan para ver qué tan equivocadas están. *Código:* `perdida = fn_perd(y_predc, y_ent)`.\n",
        "3. Los gradientes de los optimizadores se establecen en cero para que puedan recalcularse y dar paso al entrenamiento específico. *Código:* `optimizer.zero_grad()`.\n",
        "4. Se calcula la pérdida del gradiente con respecto a cada parámetro que se actualizará (retroprogramación). *Código:* `loss.backward()`.\n",
        "5. Se actualizan los parámetros con `requires_grand=True` respecto a la pérdida para mejorarlos. *Código:* `optimizer.step()`."
      ],
      "metadata": {
        "id": "uROekNiItRUI"
      }
    },
    {
      "cell_type": "code",
      "source": [
        "torch.manual_seed(42)\n",
        "\n",
        "# Hyperparameter that counts the times it is gonna run the model\n",
        "\n",
        "epochs = 300\n",
        "\n",
        "# Cree listas de vacías para realizar un seguimiento de nuestro modelo\n",
        "\n",
        "training_loss = []\n",
        "test_loss = []\n",
        "\n",
        "# the function to run the model predefine as a fordward() and model_1\n",
        "\n",
        "for epoch in range (epochs):\n",
        "\n",
        "  ### Entrenamiento\n",
        "  # Pon el modelo en modo entrenamiento\n",
        "  model_1.train()\n",
        "\n",
        "    # 1. Pase hacia adelante los datos usando el método forward()\n",
        "  y_pred = model_1(X_train)\n",
        "\n",
        "    # 2. Calcula la pérdida (Cuán diferentes son las predicciones de nuestros modelos)\n",
        "  lossing = loss_func(y_pred, y_train)\n",
        "\n",
        "    # 3. Gradiente cero del optomizador\n",
        "  optimizer.zero_grad()\n",
        "\n",
        "    # 4. Pérdida al revés\n",
        "  lossing.backward()\n",
        "\n",
        "    # 5. Progreso del optimizador\n",
        "  optimizer.step()\n",
        "\n",
        "\n",
        "### Función de prueba\n",
        "\n",
        "    # Pon el modelo en modo evaluación\n",
        "  model_1.eval()\n",
        "\n",
        "  with torch.inference_mode():\n",
        "\n",
        "      # 1. Reenviar datos de prueba\n",
        "    test_pred = model_1(X_test)\n",
        "\n",
        "      # 2. Calcular la pérdida en datos de prueba\n",
        "    test_losses = loss_func(test_pred, y_test.type(torch.float))\n",
        "\n",
        "      # Imprime lo que está pasando\n",
        "    if epoch % 1 == 0:\n",
        "      training_loss.append(lossing.detach().numpy())\n",
        "      test_loss.append(test_losses.detach().numpy())\n",
        "      print(f\"epoch: {epoch} | Train lossing: {lossing} | Test lossing {test_losses}\")"
      ],
      "metadata": {
        "id": "TWvLP1_MxnXK",
        "colab": {
          "base_uri": "https://localhost:8080/"
        },
        "outputId": "fdfdde53-e847-4891-f57b-056a918a296e"
      },
      "execution_count": null,
      "outputs": [
        {
          "output_type": "stream",
          "name": "stdout",
          "text": [
            "epoch: 0 | Train lossing: 0.22755758464336395 | Test lossing 0.44638586044311523\n",
            "epoch: 1 | Train lossing: 0.2164185345172882 | Test lossing 0.4335592985153198\n",
            "epoch: 2 | Train lossing: 0.20527945458889008 | Test lossing 0.420732706785202\n",
            "epoch: 3 | Train lossing: 0.19414040446281433 | Test lossing 0.4079062044620514\n",
            "epoch: 4 | Train lossing: 0.1830013245344162 | Test lossing 0.3950796127319336\n",
            "epoch: 5 | Train lossing: 0.17186227440834045 | Test lossing 0.3822530210018158\n",
            "epoch: 6 | Train lossing: 0.16072320938110352 | Test lossing 0.3694264888763428\n",
            "epoch: 7 | Train lossing: 0.14958414435386658 | Test lossing 0.35659992694854736\n",
            "epoch: 8 | Train lossing: 0.13907432556152344 | Test lossing 0.34448763728141785\n",
            "epoch: 9 | Train lossing: 0.1298322230577469 | Test lossing 0.33310458064079285\n",
            "epoch: 10 | Train lossing: 0.1217288002371788 | Test lossing 0.32246577739715576\n",
            "epoch: 11 | Train lossing: 0.11463459581136703 | Test lossing 0.31258606910705566\n",
            "epoch: 12 | Train lossing: 0.10846466571092606 | Test lossing 0.30270639061927795\n",
            "epoch: 13 | Train lossing: 0.10278312861919403 | Test lossing 0.29360079765319824\n",
            "epoch: 14 | Train lossing: 0.09785537421703339 | Test lossing 0.28528428077697754\n",
            "epoch: 15 | Train lossing: 0.09362462908029556 | Test lossing 0.2769677937030792\n",
            "epoch: 16 | Train lossing: 0.08975961059331894 | Test lossing 0.26945531368255615\n",
            "epoch: 17 | Train lossing: 0.08638729155063629 | Test lossing 0.2627617418766022\n",
            "epoch: 18 | Train lossing: 0.0837239995598793 | Test lossing 0.25606822967529297\n",
            "epoch: 19 | Train lossing: 0.08106067031621933 | Test lossing 0.24937468767166138\n",
            "epoch: 20 | Train lossing: 0.07873930037021637 | Test lossing 0.24351508915424347\n",
            "epoch: 21 | Train lossing: 0.0767173320055008 | Test lossing 0.23765547573566437\n",
            "epoch: 22 | Train lossing: 0.07492335885763168 | Test lossing 0.232644721865654\n",
            "epoch: 23 | Train lossing: 0.07344580441713333 | Test lossing 0.2276340276002884\n",
            "epoch: 24 | Train lossing: 0.07199407368898392 | Test lossing 0.22348713874816895\n",
            "epoch: 25 | Train lossing: 0.0709623247385025 | Test lossing 0.2193402796983719\n",
            "epoch: 26 | Train lossing: 0.0699305608868599 | Test lossing 0.21519340574741364\n",
            "epoch: 27 | Train lossing: 0.06889880448579788 | Test lossing 0.21104656159877777\n",
            "epoch: 28 | Train lossing: 0.06800012290477753 | Test lossing 0.20777849853038788\n",
            "epoch: 29 | Train lossing: 0.06731361150741577 | Test lossing 0.2045104056596756\n",
            "epoch: 30 | Train lossing: 0.06662709265947342 | Test lossing 0.20124231278896332\n",
            "epoch: 31 | Train lossing: 0.06594058126211166 | Test lossing 0.19797420501708984\n",
            "epoch: 32 | Train lossing: 0.06530767679214478 | Test lossing 0.19559986889362335\n",
            "epoch: 33 | Train lossing: 0.06486377120018005 | Test lossing 0.19322556257247925\n",
            "epoch: 34 | Train lossing: 0.06441985815763474 | Test lossing 0.19085127115249634\n",
            "epoch: 35 | Train lossing: 0.06397594511508942 | Test lossing 0.18847692012786865\n",
            "epoch: 36 | Train lossing: 0.0635320395231247 | Test lossing 0.18610258400440216\n",
            "epoch: 37 | Train lossing: 0.06308812648057938 | Test lossing 0.18372829258441925\n",
            "epoch: 38 | Train lossing: 0.06264422088861465 | Test lossing 0.18135394155979156\n",
            "epoch: 39 | Train lossing: 0.06227293983101845 | Test lossing 0.17988832294940948\n",
            "epoch: 40 | Train lossing: 0.06196669116616249 | Test lossing 0.1784226894378662\n",
            "epoch: 41 | Train lossing: 0.061660442501306534 | Test lossing 0.17695708572864532\n",
            "epoch: 42 | Train lossing: 0.06135419383645058 | Test lossing 0.17549145221710205\n",
            "epoch: 43 | Train lossing: 0.06104794517159462 | Test lossing 0.17402584850788116\n",
            "epoch: 44 | Train lossing: 0.06074169650673866 | Test lossing 0.1725602149963379\n",
            "epoch: 45 | Train lossing: 0.060435447841882706 | Test lossing 0.171094611287117\n",
            "epoch: 46 | Train lossing: 0.06012919917702675 | Test lossing 0.16962897777557373\n",
            "epoch: 47 | Train lossing: 0.05982295051217079 | Test lossing 0.16816337406635284\n",
            "epoch: 48 | Train lossing: 0.059516701847314835 | Test lossing 0.16669774055480957\n",
            "epoch: 49 | Train lossing: 0.05921045318245888 | Test lossing 0.16523213684558868\n",
            "epoch: 50 | Train lossing: 0.05890420451760292 | Test lossing 0.1637665033340454\n",
            "epoch: 51 | Train lossing: 0.058597955852746964 | Test lossing 0.16230089962482452\n",
            "epoch: 52 | Train lossing: 0.058297641575336456 | Test lossing 0.1617589145898819\n",
            "epoch: 53 | Train lossing: 0.05802920460700989 | Test lossing 0.16029329597949982\n",
            "epoch: 54 | Train lossing: 0.0577591247856617 | Test lossing 0.1597513109445572\n",
            "epoch: 55 | Train lossing: 0.05748310312628746 | Test lossing 0.15920932590961456\n",
            "epoch: 56 | Train lossing: 0.057207077741622925 | Test lossing 0.15866735577583313\n",
            "epoch: 57 | Train lossing: 0.056935448199510574 | Test lossing 0.15720172226428986\n",
            "epoch: 58 | Train lossing: 0.056668560951948166 | Test lossing 0.15665972232818604\n",
            "epoch: 59 | Train lossing: 0.05639253929257393 | Test lossing 0.1561177372932434\n",
            "epoch: 60 | Train lossing: 0.056116510182619095 | Test lossing 0.15557575225830078\n",
            "epoch: 61 | Train lossing: 0.055841702967882156 | Test lossing 0.15411017835140228\n",
            "epoch: 62 | Train lossing: 0.05557800084352493 | Test lossing 0.15356817841529846\n",
            "epoch: 63 | Train lossing: 0.0553019717335701 | Test lossing 0.15302617847919464\n",
            "epoch: 64 | Train lossing: 0.05502595379948616 | Test lossing 0.15248417854309082\n",
            "epoch: 65 | Train lossing: 0.05474993214011192 | Test lossing 0.1519422084093094\n",
            "epoch: 66 | Train lossing: 0.05448543652892113 | Test lossing 0.1504765748977661\n",
            "epoch: 67 | Train lossing: 0.054211411625146866 | Test lossing 0.1499345749616623\n",
            "epoch: 68 | Train lossing: 0.05393538624048233 | Test lossing 0.14939258992671967\n",
            "epoch: 69 | Train lossing: 0.053659360855817795 | Test lossing 0.14885061979293823\n",
            "epoch: 70 | Train lossing: 0.053391676396131516 | Test lossing 0.14738501608371735\n",
            "epoch: 71 | Train lossing: 0.053120847791433334 | Test lossing 0.14684301614761353\n",
            "epoch: 72 | Train lossing: 0.052844833582639694 | Test lossing 0.1463010162115097\n",
            "epoch: 73 | Train lossing: 0.052568815648555756 | Test lossing 0.14575904607772827\n",
            "epoch: 74 | Train lossing: 0.0522979237139225 | Test lossing 0.14429344236850739\n",
            "epoch: 75 | Train lossing: 0.0520302839577198 | Test lossing 0.14375144243240356\n",
            "epoch: 76 | Train lossing: 0.05175426974892616 | Test lossing 0.14320944249629974\n",
            "epoch: 77 | Train lossing: 0.05147824063897133 | Test lossing 0.1426674723625183\n",
            "epoch: 78 | Train lossing: 0.051204174757003784 | Test lossing 0.14120185375213623\n",
            "epoch: 79 | Train lossing: 0.05093972757458687 | Test lossing 0.14065982401371002\n",
            "epoch: 80 | Train lossing: 0.05066370964050293 | Test lossing 0.14011786878108978\n",
            "epoch: 81 | Train lossing: 0.050387684255838394 | Test lossing 0.13957588374614716\n",
            "epoch: 82 | Train lossing: 0.05011165887117386 | Test lossing 0.13903389871120453\n",
            "epoch: 83 | Train lossing: 0.04984791949391365 | Test lossing 0.13756828010082245\n",
            "epoch: 84 | Train lossing: 0.0495731420814991 | Test lossing 0.13702629506587982\n",
            "epoch: 85 | Train lossing: 0.04929712042212486 | Test lossing 0.1364843100309372\n",
            "epoch: 86 | Train lossing: 0.04902110621333122 | Test lossing 0.13594232499599457\n",
            "epoch: 87 | Train lossing: 0.04875416308641434 | Test lossing 0.1344767063856125\n",
            "epoch: 88 | Train lossing: 0.04848257824778557 | Test lossing 0.13393472135066986\n",
            "epoch: 89 | Train lossing: 0.04820655658841133 | Test lossing 0.13339273631572723\n",
            "epoch: 90 | Train lossing: 0.047930534929037094 | Test lossing 0.1328507363796234\n",
            "epoch: 91 | Train lossing: 0.04766041040420532 | Test lossing 0.13138510286808014\n",
            "epoch: 92 | Train lossing: 0.047392018139362335 | Test lossing 0.1308431178331375\n",
            "epoch: 93 | Train lossing: 0.0471160002052784 | Test lossing 0.13030114769935608\n",
            "epoch: 94 | Train lossing: 0.04683997854590416 | Test lossing 0.12975917756557465\n",
            "epoch: 95 | Train lossing: 0.04656664654612541 | Test lossing 0.12829355895519257\n",
            "epoch: 96 | Train lossing: 0.046301450580358505 | Test lossing 0.12775154411792755\n",
            "epoch: 97 | Train lossing: 0.04602542892098427 | Test lossing 0.12720955908298492\n",
            "epoch: 98 | Train lossing: 0.045749418437480927 | Test lossing 0.1266675889492035\n",
            "epoch: 99 | Train lossing: 0.04547339677810669 | Test lossing 0.12612558901309967\n",
            "epoch: 100 | Train lossing: 0.04521039500832558 | Test lossing 0.124659962952137\n",
            "epoch: 101 | Train lossing: 0.044934868812561035 | Test lossing 0.12411799281835556\n",
            "epoch: 102 | Train lossing: 0.0446588471531868 | Test lossing 0.12357600778341293\n",
            "epoch: 103 | Train lossing: 0.044382836669683456 | Test lossing 0.12303400039672852\n",
            "epoch: 104 | Train lossing: 0.04411664977669716 | Test lossing 0.12156838178634644\n",
            "epoch: 105 | Train lossing: 0.0438443161547184 | Test lossing 0.1210264042019844\n",
            "epoch: 106 | Train lossing: 0.043568290770053864 | Test lossing 0.12048443406820297\n",
            "epoch: 107 | Train lossing: 0.043292272835969925 | Test lossing 0.11994243413209915\n",
            "epoch: 108 | Train lossing: 0.043022893369197845 | Test lossing 0.11847683042287827\n",
            "epoch: 109 | Train lossing: 0.04275375232100487 | Test lossing 0.11793483048677444\n",
            "epoch: 110 | Train lossing: 0.04247772693634033 | Test lossing 0.11739284545183182\n",
            "epoch: 111 | Train lossing: 0.04220171645283699 | Test lossing 0.11685087531805038\n",
            "epoch: 112 | Train lossing: 0.04192913696169853 | Test lossing 0.1153852567076683\n",
            "epoch: 113 | Train lossing: 0.041663188487291336 | Test lossing 0.11484324932098389\n",
            "epoch: 114 | Train lossing: 0.0413871668279171 | Test lossing 0.11430126428604126\n",
            "epoch: 115 | Train lossing: 0.04111114516854286 | Test lossing 0.11375928670167923\n",
            "epoch: 116 | Train lossing: 0.04083538055419922 | Test lossing 0.11229366809129715\n",
            "epoch: 117 | Train lossing: 0.040572620928287506 | Test lossing 0.11175167560577393\n",
            "epoch: 118 | Train lossing: 0.040296606719493866 | Test lossing 0.1112096905708313\n",
            "epoch: 119 | Train lossing: 0.04002058878540993 | Test lossing 0.11066770553588867\n",
            "epoch: 120 | Train lossing: 0.03974455967545509 | Test lossing 0.11012572050094604\n",
            "epoch: 121 | Train lossing: 0.03947911784052849 | Test lossing 0.10866010189056396\n",
            "epoch: 122 | Train lossing: 0.03920603543519974 | Test lossing 0.10811812430620193\n",
            "epoch: 123 | Train lossing: 0.0389300175011158 | Test lossing 0.10757613182067871\n",
            "epoch: 124 | Train lossing: 0.03865400329232216 | Test lossing 0.10703413933515549\n",
            "epoch: 125 | Train lossing: 0.03838538005948067 | Test lossing 0.10556852072477341\n",
            "epoch: 126 | Train lossing: 0.0381154902279377 | Test lossing 0.10502654314041138\n",
            "epoch: 127 | Train lossing: 0.03783946484327316 | Test lossing 0.10448453575372696\n",
            "epoch: 128 | Train lossing: 0.037563443183898926 | Test lossing 0.10394256561994553\n",
            "epoch: 129 | Train lossing: 0.037291619926691055 | Test lossing 0.10247695446014404\n",
            "epoch: 130 | Train lossing: 0.03702491521835327 | Test lossing 0.10193496942520142\n",
            "epoch: 131 | Train lossing: 0.03674889728426933 | Test lossing 0.10139298439025879\n",
            "epoch: 132 | Train lossing: 0.036472879350185394 | Test lossing 0.10085096955299377\n",
            "epoch: 133 | Train lossing: 0.03619786724448204 | Test lossing 0.09938535839319229\n",
            "epoch: 134 | Train lossing: 0.03593435883522034 | Test lossing 0.09884337335824966\n",
            "epoch: 135 | Train lossing: 0.0356583334505558 | Test lossing 0.09830140322446823\n",
            "epoch: 136 | Train lossing: 0.03538231551647186 | Test lossing 0.09775940328836441\n",
            "epoch: 137 | Train lossing: 0.035106297582387924 | Test lossing 0.09721741825342178\n",
            "epoch: 138 | Train lossing: 0.034841615706682205 | Test lossing 0.0957518145442009\n",
            "epoch: 139 | Train lossing: 0.034567780792713165 | Test lossing 0.09520980715751648\n",
            "epoch: 140 | Train lossing: 0.03429174795746803 | Test lossing 0.09466782212257385\n",
            "epoch: 141 | Train lossing: 0.034015726298093796 | Test lossing 0.09412584453821182\n",
            "epoch: 142 | Train lossing: 0.033747851848602295 | Test lossing 0.09266022592782974\n",
            "epoch: 143 | Train lossing: 0.03347720950841904 | Test lossing 0.09211822599172592\n",
            "epoch: 144 | Train lossing: 0.0332011952996254 | Test lossing 0.0915762409567833\n",
            "epoch: 145 | Train lossing: 0.03292516991496086 | Test lossing 0.09103425592184067\n",
            "epoch: 146 | Train lossing: 0.03265410289168358 | Test lossing 0.08956863731145859\n",
            "epoch: 147 | Train lossing: 0.0323866531252861 | Test lossing 0.08902666717767715\n",
            "epoch: 148 | Train lossing: 0.03211062029004097 | Test lossing 0.08848466724157333\n",
            "epoch: 149 | Train lossing: 0.03183460608124733 | Test lossing 0.0879426822066307\n",
            "epoch: 150 | Train lossing: 0.031560350209474564 | Test lossing 0.08647706359624863\n",
            "epoch: 151 | Train lossing: 0.03129609301686287 | Test lossing 0.085935078561306\n",
            "epoch: 152 | Train lossing: 0.031020071357488632 | Test lossing 0.08539309352636337\n",
            "epoch: 153 | Train lossing: 0.030744045972824097 | Test lossing 0.08485109359025955\n",
            "epoch: 154 | Train lossing: 0.03046802617609501 | Test lossing 0.08430912345647812\n",
            "epoch: 155 | Train lossing: 0.03020409680902958 | Test lossing 0.08284350484609604\n",
            "epoch: 156 | Train lossing: 0.02992950938642025 | Test lossing 0.08230150490999222\n",
            "epoch: 157 | Train lossing: 0.029653485864400864 | Test lossing 0.08175952732563019\n",
            "epoch: 158 | Train lossing: 0.029377469792962074 | Test lossing 0.08121753484010696\n",
            "epoch: 159 | Train lossing: 0.029110342264175415 | Test lossing 0.07975191622972488\n",
            "epoch: 160 | Train lossing: 0.028838949277997017 | Test lossing 0.07920993119478226\n",
            "epoch: 161 | Train lossing: 0.02856292389333248 | Test lossing 0.07866794615983963\n",
            "epoch: 162 | Train lossing: 0.028286898508667946 | Test lossing 0.078125961124897\n",
            "epoch: 163 | Train lossing: 0.02801658771932125 | Test lossing 0.07666034251451492\n",
            "epoch: 164 | Train lossing: 0.027748389169573784 | Test lossing 0.0761183649301529\n",
            "epoch: 165 | Train lossing: 0.02747236005961895 | Test lossing 0.07557637244462967\n",
            "epoch: 166 | Train lossing: 0.02719634585082531 | Test lossing 0.07503437995910645\n",
            "epoch: 167 | Train lossing: 0.02692282572388649 | Test lossing 0.07356876134872437\n",
            "epoch: 168 | Train lossing: 0.026657819747924805 | Test lossing 0.07302679121494293\n",
            "epoch: 169 | Train lossing: 0.026381799951195717 | Test lossing 0.07248478382825851\n",
            "epoch: 170 | Train lossing: 0.02610577829182148 | Test lossing 0.07194280624389648\n",
            "epoch: 171 | Train lossing: 0.025829758495092392 | Test lossing 0.07140082865953445\n",
            "epoch: 172 | Train lossing: 0.025566574186086655 | Test lossing 0.06993521004915237\n",
            "epoch: 173 | Train lossing: 0.025291237980127335 | Test lossing 0.06939321756362915\n",
            "epoch: 174 | Train lossing: 0.02501521445810795 | Test lossing 0.06885125488042831\n",
            "epoch: 175 | Train lossing: 0.02473919279873371 | Test lossing 0.06830926984548569\n",
            "epoch: 176 | Train lossing: 0.02447281964123249 | Test lossing 0.06684365123510361\n",
            "epoch: 177 | Train lossing: 0.0242006778717041 | Test lossing 0.06630167365074158\n",
            "epoch: 178 | Train lossing: 0.023924652487039566 | Test lossing 0.06575971096754074\n",
            "epoch: 179 | Train lossing: 0.02364862896502018 | Test lossing 0.0652177482843399\n",
            "epoch: 180 | Train lossing: 0.023379061371088028 | Test lossing 0.06375212967395782\n",
            "epoch: 181 | Train lossing: 0.023110108450055122 | Test lossing 0.0632101446390152\n",
            "epoch: 182 | Train lossing: 0.022834088653326035 | Test lossing 0.06266816705465317\n",
            "epoch: 183 | Train lossing: 0.022558065131306648 | Test lossing 0.06212620437145233\n",
            "epoch: 184 | Train lossing: 0.022285303100943565 | Test lossing 0.06066058576107025\n",
            "epoch: 185 | Train lossing: 0.022019539028406143 | Test lossing 0.06011863052845001\n",
            "epoch: 186 | Train lossing: 0.021743522956967354 | Test lossing 0.05957663431763649\n",
            "epoch: 187 | Train lossing: 0.021467501297593117 | Test lossing 0.05903466045856476\n",
            "epoch: 188 | Train lossing: 0.02119155414402485 | Test lossing 0.05756904184818268\n",
            "epoch: 189 | Train lossing: 0.02092897891998291 | Test lossing 0.057027075439691544\n",
            "epoch: 190 | Train lossing: 0.020652953535318375 | Test lossing 0.056485120207071304\n",
            "epoch: 191 | Train lossing: 0.020376937463879585 | Test lossing 0.05594313517212868\n",
            "epoch: 192 | Train lossing: 0.02010091207921505 | Test lossing 0.05540115013718605\n",
            "epoch: 193 | Train lossing: 0.019835302606225014 | Test lossing 0.05393553152680397\n",
            "epoch: 194 | Train lossing: 0.01956239342689514 | Test lossing 0.05339358374476433\n",
            "epoch: 195 | Train lossing: 0.019286368042230606 | Test lossing 0.05285161733627319\n",
            "epoch: 196 | Train lossing: 0.019010348245501518 | Test lossing 0.05230962857604027\n",
            "epoch: 197 | Train lossing: 0.01874154433608055 | Test lossing 0.05084400996565819\n",
            "epoch: 198 | Train lossing: 0.018471824005246162 | Test lossing 0.05030202865600586\n",
            "epoch: 199 | Train lossing: 0.018195807933807373 | Test lossing 0.04976007714867592\n",
            "epoch: 200 | Train lossing: 0.017919788137078285 | Test lossing 0.04921811446547508\n",
            "epoch: 201 | Train lossing: 0.017647789791226387 | Test lossing 0.047752495855093\n",
            "epoch: 202 | Train lossing: 0.01738125830888748 | Test lossing 0.047210510820150375\n",
            "epoch: 203 | Train lossing: 0.017105240374803543 | Test lossing 0.04666852951049805\n",
            "epoch: 204 | Train lossing: 0.016829218715429306 | Test lossing 0.046126559376716614\n",
            "epoch: 205 | Train lossing: 0.016554033383727074 | Test lossing 0.044660940766334534\n",
            "epoch: 206 | Train lossing: 0.0162906926125288 | Test lossing 0.044118985533714294\n",
            "epoch: 207 | Train lossing: 0.01601467654109001 | Test lossing 0.04357701539993286\n",
            "epoch: 208 | Train lossing: 0.015738651156425476 | Test lossing 0.04303501918911934\n",
            "epoch: 209 | Train lossing: 0.015462631359696388 | Test lossing 0.0424930602312088\n",
            "epoch: 210 | Train lossing: 0.01519777625799179 | Test lossing 0.04102744162082672\n",
            "epoch: 211 | Train lossing: 0.014924104325473309 | Test lossing 0.04048548638820648\n",
            "epoch: 212 | Train lossing: 0.014648090116679668 | Test lossing 0.03994349017739296\n",
            "epoch: 213 | Train lossing: 0.014372064732015133 | Test lossing 0.03940151259303093\n",
            "epoch: 214 | Train lossing: 0.01410402450710535 | Test lossing 0.03793589398264885\n",
            "epoch: 215 | Train lossing: 0.013833543285727501 | Test lossing 0.03739393875002861\n",
            "epoch: 216 | Train lossing: 0.013557525351643562 | Test lossing 0.036851976066827774\n",
            "epoch: 217 | Train lossing: 0.013281499966979027 | Test lossing 0.036310020834207535\n",
            "epoch: 218 | Train lossing: 0.013010278344154358 | Test lossing 0.034844402223825455\n",
            "epoch: 219 | Train lossing: 0.012742985971271992 | Test lossing 0.03430238738656044\n",
            "epoch: 220 | Train lossing: 0.012466956861317158 | Test lossing 0.0337604284286499\n",
            "epoch: 221 | Train lossing: 0.012190931476652622 | Test lossing 0.03321847319602966\n",
            "epoch: 222 | Train lossing: 0.011916518211364746 | Test lossing 0.03175285458564758\n",
            "epoch: 223 | Train lossing: 0.011652414686977863 | Test lossing 0.03121088445186615\n",
            "epoch: 224 | Train lossing: 0.011376391164958477 | Test lossing 0.03066888451576233\n",
            "epoch: 225 | Train lossing: 0.011100373230874538 | Test lossing 0.030126934871077538\n",
            "epoch: 226 | Train lossing: 0.010824345052242279 | Test lossing 0.029584968462586403\n",
            "epoch: 227 | Train lossing: 0.010560260154306889 | Test lossing 0.028119349852204323\n",
            "epoch: 228 | Train lossing: 0.010285823605954647 | Test lossing 0.027577364817261696\n",
            "epoch: 229 | Train lossing: 0.010009807534515858 | Test lossing 0.027035385370254517\n",
            "epoch: 230 | Train lossing: 0.009733783081173897 | Test lossing 0.026493415236473083\n",
            "epoch: 231 | Train lossing: 0.009466507472097874 | Test lossing 0.025027796626091003\n",
            "epoch: 232 | Train lossing: 0.009195261634886265 | Test lossing 0.024485846981406212\n",
            "epoch: 233 | Train lossing: 0.008919243700802326 | Test lossing 0.023943856358528137\n",
            "epoch: 234 | Train lossing: 0.00864321831613779 | Test lossing 0.023401876911520958\n",
            "epoch: 235 | Train lossing: 0.008372756652534008 | Test lossing 0.021936258301138878\n",
            "epoch: 236 | Train lossing: 0.008104697801172733 | Test lossing 0.02139429748058319\n",
            "epoch: 237 | Train lossing: 0.00782866682857275 | Test lossing 0.02085234224796295\n",
            "epoch: 238 | Train lossing: 0.007552655879408121 | Test lossing 0.02031034789979458\n",
            "epoch: 239 | Train lossing: 0.007278997451066971 | Test lossing 0.0188447292894125\n",
            "epoch: 240 | Train lossing: 0.007014129310846329 | Test lossing 0.01830274797976017\n",
            "epoch: 241 | Train lossing: 0.006738106720149517 | Test lossing 0.01776079274713993\n",
            "epoch: 242 | Train lossing: 0.006462084595113993 | Test lossing 0.017218833789229393\n",
            "epoch: 243 | Train lossing: 0.006186064798384905 | Test lossing 0.016676848754286766\n",
            "epoch: 244 | Train lossing: 0.005922744981944561 | Test lossing 0.015211229212582111\n",
            "epoch: 245 | Train lossing: 0.005647546146064997 | Test lossing 0.014669244177639484\n",
            "epoch: 246 | Train lossing: 0.005371521692723036 | Test lossing 0.014127284288406372\n",
            "epoch: 247 | Train lossing: 0.0050954995676875114 | Test lossing 0.013585329055786133\n",
            "epoch: 248 | Train lossing: 0.004828989505767822 | Test lossing 0.012119710445404053\n",
            "epoch: 249 | Train lossing: 0.004556979518383741 | Test lossing 0.011577720753848553\n",
            "epoch: 250 | Train lossing: 0.004280952271074057 | Test lossing 0.011035740375518799\n",
            "epoch: 251 | Train lossing: 0.00400493573397398 | Test lossing 0.01049378514289856\n",
            "epoch: 252 | Train lossing: 0.003735238453373313 | Test lossing 0.00902816653251648\n",
            "epoch: 253 | Train lossing: 0.003468856681138277 | Test lossing 0.009424800984561443\n",
            "epoch: 254 | Train lossing: 0.0032143795397132635 | Test lossing 0.007050489541143179\n",
            "epoch: 255 | Train lossing: 0.002979028970003128 | Test lossing 0.008400723338127136\n",
            "epoch: 256 | Train lossing: 0.0027434544172137976 | Test lossing 0.005132640246301889\n",
            "epoch: 257 | Train lossing: 0.00255192699842155 | Test lossing 0.007451420184224844\n",
            "epoch: 258 | Train lossing: 0.0023538731038570404 | Test lossing 0.002440705895423889\n",
            "epoch: 259 | Train lossing: 0.0026953022461384535 | Test lossing 0.010884721763432026\n",
            "epoch: 260 | Train lossing: 0.005096507724374533 | Test lossing 0.0019418647279962897\n",
            "epoch: 261 | Train lossing: 0.00604255823418498 | Test lossing 0.010884721763432026\n",
            "epoch: 262 | Train lossing: 0.005096507724374533 | Test lossing 0.0019418647279962897\n",
            "epoch: 263 | Train lossing: 0.00604255823418498 | Test lossing 0.010884721763432026\n",
            "epoch: 264 | Train lossing: 0.005096507724374533 | Test lossing 0.0019418647279962897\n",
            "epoch: 265 | Train lossing: 0.00604255823418498 | Test lossing 0.010884721763432026\n",
            "epoch: 266 | Train lossing: 0.005096507724374533 | Test lossing 0.0019418647279962897\n",
            "epoch: 267 | Train lossing: 0.00604255823418498 | Test lossing 0.010884721763432026\n",
            "epoch: 268 | Train lossing: 0.005096507724374533 | Test lossing 0.0019418647279962897\n",
            "epoch: 269 | Train lossing: 0.00604255823418498 | Test lossing 0.010884721763432026\n",
            "epoch: 270 | Train lossing: 0.005096507724374533 | Test lossing 0.0019418647279962897\n",
            "epoch: 271 | Train lossing: 0.00604255823418498 | Test lossing 0.010884721763432026\n",
            "epoch: 272 | Train lossing: 0.005096507724374533 | Test lossing 0.0019418647279962897\n",
            "epoch: 273 | Train lossing: 0.00604255823418498 | Test lossing 0.010884721763432026\n",
            "epoch: 274 | Train lossing: 0.005096507724374533 | Test lossing 0.0019418647279962897\n",
            "epoch: 275 | Train lossing: 0.00604255823418498 | Test lossing 0.010884721763432026\n",
            "epoch: 276 | Train lossing: 0.005096507724374533 | Test lossing 0.0019418647279962897\n",
            "epoch: 277 | Train lossing: 0.00604255823418498 | Test lossing 0.010884721763432026\n",
            "epoch: 278 | Train lossing: 0.005096507724374533 | Test lossing 0.0019418647279962897\n",
            "epoch: 279 | Train lossing: 0.00604255823418498 | Test lossing 0.010884721763432026\n",
            "epoch: 280 | Train lossing: 0.005096507724374533 | Test lossing 0.0019418647279962897\n",
            "epoch: 281 | Train lossing: 0.00604255823418498 | Test lossing 0.010884721763432026\n",
            "epoch: 282 | Train lossing: 0.005096507724374533 | Test lossing 0.0019418647279962897\n",
            "epoch: 283 | Train lossing: 0.00604255823418498 | Test lossing 0.010884721763432026\n",
            "epoch: 284 | Train lossing: 0.005096507724374533 | Test lossing 0.0019418647279962897\n",
            "epoch: 285 | Train lossing: 0.00604255823418498 | Test lossing 0.010884721763432026\n",
            "epoch: 286 | Train lossing: 0.005096507724374533 | Test lossing 0.0019418647279962897\n",
            "epoch: 287 | Train lossing: 0.00604255823418498 | Test lossing 0.010884721763432026\n",
            "epoch: 288 | Train lossing: 0.005096507724374533 | Test lossing 0.0019418647279962897\n",
            "epoch: 289 | Train lossing: 0.00604255823418498 | Test lossing 0.010884721763432026\n",
            "epoch: 290 | Train lossing: 0.005096507724374533 | Test lossing 0.0019418647279962897\n",
            "epoch: 291 | Train lossing: 0.00604255823418498 | Test lossing 0.010884721763432026\n",
            "epoch: 292 | Train lossing: 0.005096507724374533 | Test lossing 0.0019418647279962897\n",
            "epoch: 293 | Train lossing: 0.00604255823418498 | Test lossing 0.010884721763432026\n",
            "epoch: 294 | Train lossing: 0.005096507724374533 | Test lossing 0.0019418647279962897\n",
            "epoch: 295 | Train lossing: 0.00604255823418498 | Test lossing 0.010884721763432026\n",
            "epoch: 296 | Train lossing: 0.005096507724374533 | Test lossing 0.0019418647279962897\n",
            "epoch: 297 | Train lossing: 0.00604255823418498 | Test lossing 0.010884721763432026\n",
            "epoch: 298 | Train lossing: 0.005096507724374533 | Test lossing 0.0019418647279962897\n",
            "epoch: 299 | Train lossing: 0.00604255823418498 | Test lossing 0.010884721763432026\n"
          ]
        }
      ]
    },
    {
      "cell_type": "markdown",
      "source": [
        "##### Parece que nuestra pérdida fue disminuyendo con cada época, veamos graficamente:"
      ],
      "metadata": {
        "id": "BYX5Drgx5zrs"
      }
    },
    {
      "cell_type": "code",
      "source": [
        "# Traza las curvas de pérdida\n",
        "plt.plot(training_loss, label = \"Train lossing\")\n",
        "plt.plot(test_loss, label = \"Test lossing\")\n",
        "plt.ylabel (\"lossing\")\n",
        "plt.xlabel (\"Epoch\")\n",
        "plt.legend()"
      ],
      "metadata": {
        "id": "ZBiknlXo57Di",
        "colab": {
          "base_uri": "https://localhost:8080/",
          "height": 466
        },
        "outputId": "cd4e84fe-b0ab-438e-97eb-1da36c9a2ab6"
      },
      "execution_count": null,
      "outputs": [
        {
          "output_type": "execute_result",
          "data": {
            "text/plain": [
              "<matplotlib.legend.Legend at 0x7bef4d3f63e0>"
            ]
          },
          "metadata": {},
          "execution_count": 20
        },
        {
          "output_type": "display_data",
          "data": {
            "text/plain": [
              "<Figure size 640x480 with 1 Axes>"
            ],
            "image/png": "[encoded data removed]"
          },
          "metadata": {}
        }
      ]
    },
    {
      "cell_type": "markdown",
      "source": [
        "# 4. Inferencia con un modelo PyTorch entrenado\n",
        "\n",
        "##### Una vez entrenado el modelo, podemos hacer inferencia (predicciones) con él.\n",
        "\n",
        "Hay tres aspectos que debemos recordar para hacer predicciones correctamente:\n",
        "\n",
        "1. Configurar el modelo en modo de evaluación `(model.eval())`.\n",
        "2. Realizar las predicciones utilizando el administrador de contexto del modo de inferencia `(with torch.inference_mode(): ...)`.\n",
        "3. Todas las predicciones deben realizarse con objetos en el mismo dispositivo (datos y modelo solo en GPU o datos y modelo solo en CPU).\n"
      ],
      "metadata": {
        "id": "cozB_fkeLQNz"
      }
    },
    {
      "cell_type": "code",
      "source": [
        "# 1. Configure el modelo en modo de evaluación\n",
        "\n",
        "model_1.eval()\n",
        "\n",
        "# 2. Configure el administrador de contexto del modo de inferencia\n",
        "with torch.inference_mode():\n",
        "\n",
        "# 3. Asegúrese de que los cálculos se realicen con el modelo y los datos en el mismo dispositivo en nuestro caso, nuestros datos y modelo están en la CPU de forma predeterminada\n",
        "  # model_1.to(device)\n",
        "  # X_prueb = X_prueb.to(device)\n",
        "  y_pred = model_1(X_test)\n",
        "\n"
      ],
      "metadata": {
        "id": "KhGk2F63Msna"
      },
      "execution_count": null,
      "outputs": []
    },
    {
      "cell_type": "code",
      "source": [
        "y_pred"
      ],
      "metadata": {
        "colab": {
          "base_uri": "https://localhost:8080/"
        },
        "id": "R6tSb3cCWNzN",
        "outputId": "14b8af3b-b58b-4386-a551-03e6d5858c60"
      },
      "execution_count": null,
      "outputs": [
        {
          "output_type": "execute_result",
          "data": {
            "text/plain": [
              "tensor([[0.7507],\n",
              "        [0.7704],\n",
              "        [0.7901],\n",
              "        [0.8098],\n",
              "        [0.8295],\n",
              "        [0.8493],\n",
              "        [0.8690],\n",
              "        [0.8887],\n",
              "        [0.9084],\n",
              "        [0.9281],\n",
              "        [0.9478],\n",
              "        [0.9675]])"
            ]
          },
          "metadata": {},
          "execution_count": 25
        }
      ]
    },
    {
      "cell_type": "markdown",
      "source": [
        "Observa cómo se ve gráficamente el modelo entrenado:\n"
      ],
      "metadata": {
        "id": "63-dZs-NNNqI"
      }
    },
    {
      "cell_type": "code",
      "source": [],
      "metadata": {
        "id": "TiaifokvWT8E"
      },
      "execution_count": null,
      "outputs": []
    },
    {
      "cell_type": "code",
      "source": [
        "plot_predictions(predictions = y_pred)"
      ],
      "metadata": {
        "id": "5accYYktNTvX",
        "colab": {
          "base_uri": "https://localhost:8080/",
          "height": 830
        },
        "outputId": "5999792c-bc1c-43d1-e272-93356941c15d"
      },
      "execution_count": null,
      "outputs": [
        {
          "output_type": "display_data",
          "data": {
            "text/plain": [
              "<Figure size 1000x1000 with 1 Axes>"
            ],
            "image/png": "[encoded data removed]"
          },
          "metadata": {}
        }
      ]
    },
    {
      "cell_type": "markdown",
      "source": [
        "#### Gráficamente, los puntos rojos se ven mucho más cerca de lo que estaban antes.\n",
        "\n"
      ],
      "metadata": {
        "id": "DDb8Nu_XNa84"
      }
    },
    {
      "cell_type": "markdown",
      "source": [
        "## Conclusión\n",
        "\n",
        "En estas clases, aprendimos los conceptos básicos para crear un modelo PyTorch para regresión lineal. Comenzamos utilizando el módulo *`nn`* para definir la arquitectura de nuestro modelo. Luego configuramos un optimizador y una función de pérdida. A continuación, entrenamos y evaluamos nuestro modelo utilizando un pequeño conjunto de datos.\n",
        "\n",
        "Para las próximas clases continuaremos construyendo sobre esta base para crear modelos más complejos, comenzando con redes neuronales. Profundizaremos en PyTorch y exploraremos técnicas más avanzadas para crear y entrenar modelos.\n",
        "\n",
        "¡Prepárate para aprender y experimentar mientras continuamos nuestro viaje a través de PyTorch!"
      ],
      "metadata": {
        "id": "kMruwjSEBbUd"
      }
    }
  ]
}